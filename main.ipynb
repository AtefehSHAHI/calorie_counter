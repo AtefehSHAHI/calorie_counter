{
  "cells": [
    {
      "cell_type": "code",
      "execution_count": null,
      "metadata": {
        "id": "I-1dLuBZlClx"
      },
      "outputs": [],
      "source": [
        "\" this notebook is to test if the import functions made to calculate calories and the price and ... is working\"\n",
        "from calories_functions import calories_complex_data\n",
        "\n",
        "print(calories_complex_data.Total_Order('veggie combo'))"
      ]
    }
  ],
  "metadata": {
    "colab": {
      "provenance": []
    },
    "kernelspec": {
      "display_name": "Python 3.8.7 ('.venv': venv)",
      "language": "python",
      "name": "python3"
    },
    "language_info": {
      "name": "python",
      "version": "3.8.7"
    },
    "vscode": {
      "interpreter": {
        "hash": "76170d790a2d56f4e88396f8ec56f5f1e00584f6b3e2558bb0504dceac9dba07"
      }
    }
  },
  "nbformat": 4,
  "nbformat_minor": 0
}
